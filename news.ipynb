{
 "cells": [
  {
   "cell_type": "code",
   "execution_count": 1,
   "metadata": {},
   "outputs": [],
   "source": [
    "import glob\n",
    "import os\n",
    "import pandas as pd\n",
    "def read_data(dirname):\n",
    "    pat = \"{}/*/*.[tT][xX][tT]\".format(dirname)\n",
    "    fs = glob.glob(pat)\n",
    "    contents = []\n",
    "    answers = []\n",
    "    for fn in fs:\n",
    "        with open(fn, \"r\", encoding=\"utf-8\") as f:\n",
    "            news = f.read()\n",
    "        contents.append(news)\n",
    "        dn = os.path.split(fn)[0]\n",
    "        dn = os.path.split(dn)[-1]\n",
    "        answers.append(dn)\n",
    "    df = pd.DataFrame({\n",
    "        \"content\":contents,\n",
    "        \"ans\":answers\n",
    "    })\n",
    "    return df"
   ]
  },
  {
   "cell_type": "code",
   "execution_count": 2,
   "metadata": {},
   "outputs": [
    {
     "data": {
      "text/html": [
       "<div>\n",
       "<style scoped>\n",
       "    .dataframe tbody tr th:only-of-type {\n",
       "        vertical-align: middle;\n",
       "    }\n",
       "\n",
       "    .dataframe tbody tr th {\n",
       "        vertical-align: top;\n",
       "    }\n",
       "\n",
       "    .dataframe thead th {\n",
       "        text-align: right;\n",
       "    }\n",
       "</style>\n",
       "<table border=\"1\" class=\"dataframe\">\n",
       "  <thead>\n",
       "    <tr style=\"text-align: right;\">\n",
       "      <th></th>\n",
       "      <th>content</th>\n",
       "      <th>ans</th>\n",
       "    </tr>\n",
       "  </thead>\n",
       "  <tbody>\n",
       "    <tr>\n",
       "      <th>0</th>\n",
       "      <td>【 日  期 】19960104\\n【 版  號 】1\\n【 標  題 】合巢蕪高速公路巢蕪...</td>\n",
       "      <td>交通</td>\n",
       "    </tr>\n",
       "    <tr>\n",
       "      <th>1</th>\n",
       "      <td>【 日  期 】19960226\\n【 版  號 】5\\n【 標  題 】我首臺載人磁懸浮列...</td>\n",
       "      <td>交通</td>\n",
       "    </tr>\n",
       "    <tr>\n",
       "      <th>2</th>\n",
       "      <td>大秦鐵路萬噸列車試運成功\\n新華社北京５月２４日電（通訊員李忠民）大秦...</td>\n",
       "      <td>交通</td>\n",
       "    </tr>\n",
       "    <tr>\n",
       "      <th>3</th>\n",
       "      <td>遼寧省檯安縣村村都通柏油路鄉村公路建設全國數第\\n一\\n    (4)...</td>\n",
       "      <td>交通</td>\n",
       "    </tr>\n",
       "    <tr>\n",
       "      <th>4</th>\n",
       "      <td>北京—烏蘭巴托—莫斯料３／４次國際旅客列車通車\\n３０週年\\n    ...</td>\n",
       "      <td>交通</td>\n",
       "    </tr>\n",
       "    <tr>\n",
       "      <th>...</th>\n",
       "      <td>...</td>\n",
       "      <td>...</td>\n",
       "    </tr>\n",
       "    <tr>\n",
       "      <th>2632</th>\n",
       "      <td>馬玉芹破女子４００米跑全國青年紀錄\\n新華社鞍山５月１０日電（通訊員王...</td>\n",
       "      <td>體育</td>\n",
       "    </tr>\n",
       "    <tr>\n",
       "      <th>2633</th>\n",
       "      <td>國際奧委會中國臺北委員吳經國訪問北京\\n新華社北京５月１０日電記者《中...</td>\n",
       "      <td>體育</td>\n",
       "    </tr>\n",
       "    <tr>\n",
       "      <th>2634</th>\n",
       "      <td>亞奧理事會３９個成員組織全部以書面形式確認參加\\n第十一屆亞運會\\n ...</td>\n",
       "      <td>體育</td>\n",
       "    </tr>\n",
       "    <tr>\n",
       "      <th>2635</th>\n",
       "      <td>世界盃乒乓球團體賽男子團體採用新賽制\\n新華社北京５月１０日電（記者樑...</td>\n",
       "      <td>體育</td>\n",
       "    </tr>\n",
       "    <tr>\n",
       "      <th>2636</th>\n",
       "      <td>登頂隊員簡介\\n新華社珠穆朗瑪峰５月１０日電登頂隊員簡介\\n     ...</td>\n",
       "      <td>體育</td>\n",
       "    </tr>\n",
       "  </tbody>\n",
       "</table>\n",
       "<p>2637 rows × 2 columns</p>\n",
       "</div>"
      ],
      "text/plain": [
       "                                                content ans\n",
       "0     【 日  期 】19960104\\n【 版  號 】1\\n【 標  題 】合巢蕪高速公路巢蕪...  交通\n",
       "1     【 日  期 】19960226\\n【 版  號 】5\\n【 標  題 】我首臺載人磁懸浮列...  交通\n",
       "2                大秦鐵路萬噸列車試運成功\\n新華社北京５月２４日電（通訊員李忠民）大秦...  交通\n",
       "3                遼寧省檯安縣村村都通柏油路鄉村公路建設全國數第\\n一\\n    (4)...  交通\n",
       "4                北京—烏蘭巴托—莫斯料３／４次國際旅客列車通車\\n３０週年\\n    ...  交通\n",
       "...                                                 ...  ..\n",
       "2632             馬玉芹破女子４００米跑全國青年紀錄\\n新華社鞍山５月１０日電（通訊員王...  體育\n",
       "2633             國際奧委會中國臺北委員吳經國訪問北京\\n新華社北京５月１０日電記者《中...  體育\n",
       "2634             亞奧理事會３９個成員組織全部以書面形式確認參加\\n第十一屆亞運會\\n ...  體育\n",
       "2635             世界盃乒乓球團體賽男子團體採用新賽制\\n新華社北京５月１０日電（記者樑...  體育\n",
       "2636             登頂隊員簡介\\n新華社珠穆朗瑪峰５月１０日電登頂隊員簡介\\n     ...  體育\n",
       "\n",
       "[2637 rows x 2 columns]"
      ]
     },
     "execution_count": 2,
     "metadata": {},
     "output_type": "execute_result"
    }
   ],
   "source": [
    "train_df = read_data(\"chinese_news_trans\")\n",
    "train_df"
   ]
  },
  {
   "cell_type": "code",
   "execution_count": 3,
   "metadata": {},
   "outputs": [
    {
     "data": {
      "text/html": [
       "<div>\n",
       "<style scoped>\n",
       "    .dataframe tbody tr th:only-of-type {\n",
       "        vertical-align: middle;\n",
       "    }\n",
       "\n",
       "    .dataframe tbody tr th {\n",
       "        vertical-align: top;\n",
       "    }\n",
       "\n",
       "    .dataframe thead th {\n",
       "        text-align: right;\n",
       "    }\n",
       "</style>\n",
       "<table border=\"1\" class=\"dataframe\">\n",
       "  <thead>\n",
       "    <tr style=\"text-align: right;\">\n",
       "      <th></th>\n",
       "      <th>content</th>\n",
       "      <th>ans</th>\n",
       "    </tr>\n",
       "  </thead>\n",
       "  <tbody>\n",
       "    <tr>\n",
       "      <th>0</th>\n",
       "      <td>日月光華 -- Traffic_Info精華區文章閱讀\\n-----------------...</td>\n",
       "      <td>交通</td>\n",
       "    </tr>\n",
       "    <tr>\n",
       "      <th>1</th>\n",
       "      <td>日月光華 -- Traffic_Info精華區文章閱讀\\n-----------------...</td>\n",
       "      <td>交通</td>\n",
       "    </tr>\n",
       "    <tr>\n",
       "      <th>2</th>\n",
       "      <td>日月光華 -- Traffic_Info精華區文章閱讀\\n-----------------...</td>\n",
       "      <td>交通</td>\n",
       "    </tr>\n",
       "    <tr>\n",
       "      <th>3</th>\n",
       "      <td>三趟火車停開 乘客可全額退票 \\n瀏覽次數：1180 \\n    昨日，來自鐵路部門的消息說...</td>\n",
       "      <td>交通</td>\n",
       "    </tr>\n",
       "    <tr>\n",
       "      <th>4</th>\n",
       "      <td>日月光華 -- Traffic_Info精華區文章閱讀\\n-----------------...</td>\n",
       "      <td>交通</td>\n",
       "    </tr>\n",
       "    <tr>\n",
       "      <th>...</th>\n",
       "      <td>...</td>\n",
       "      <td>...</td>\n",
       "    </tr>\n",
       "    <tr>\n",
       "      <th>96</th>\n",
       "      <td>最優秀選手無緣亞運會健美賽\\n \\n　 \\n    健美在亞洲運動會上是“新生兒”——韓國釜...</td>\n",
       "      <td>體育</td>\n",
       "    </tr>\n",
       "    <tr>\n",
       "      <th>97</th>\n",
       "      <td>\\n各國記者眼中的羽毛球世錦賽\\n \\n\\n-----------------------...</td>\n",
       "      <td>體育</td>\n",
       "    </tr>\n",
       "    <tr>\n",
       "      <th>98</th>\n",
       "      <td>\\n友好運動會第五天 東道主選手大顯神威\\n2001年09月03日02:51:40 新華社 ...</td>\n",
       "      <td>體育</td>\n",
       "    </tr>\n",
       "    <tr>\n",
       "      <th>99</th>\n",
       "      <td>不靠技術比運氣\\n\\n　　第二屆奧運會在巴黎舉行，同時這裡也正在舉行國際博覽會，東道主把一些...</td>\n",
       "      <td>體育</td>\n",
       "    </tr>\n",
       "    <tr>\n",
       "      <th>100</th>\n",
       "      <td>帆 板 運 動 簡 介（二）\\n\\n　　我國在79年由國家體委青島航海運動學校成功試製出第一...</td>\n",
       "      <td>體育</td>\n",
       "    </tr>\n",
       "  </tbody>\n",
       "</table>\n",
       "<p>101 rows × 2 columns</p>\n",
       "</div>"
      ],
      "text/plain": [
       "                                               content ans\n",
       "0    日月光華 -- Traffic_Info精華區文章閱讀\\n-----------------...  交通\n",
       "1    日月光華 -- Traffic_Info精華區文章閱讀\\n-----------------...  交通\n",
       "2    日月光華 -- Traffic_Info精華區文章閱讀\\n-----------------...  交通\n",
       "3    三趟火車停開 乘客可全額退票 \\n瀏覽次數：1180 \\n    昨日，來自鐵路部門的消息說...  交通\n",
       "4    日月光華 -- Traffic_Info精華區文章閱讀\\n-----------------...  交通\n",
       "..                                                 ...  ..\n",
       "96   最優秀選手無緣亞運會健美賽\\n \\n　 \\n    健美在亞洲運動會上是“新生兒”——韓國釜...  體育\n",
       "97    \\n各國記者眼中的羽毛球世錦賽\\n \\n\\n-----------------------...  體育\n",
       "98   \\n友好運動會第五天 東道主選手大顯神威\\n2001年09月03日02:51:40 新華社 ...  體育\n",
       "99   不靠技術比運氣\\n\\n　　第二屆奧運會在巴黎舉行，同時這裡也正在舉行國際博覽會，東道主把一些...  體育\n",
       "100  帆 板 運 動 簡 介（二）\\n\\n　　我國在79年由國家體委青島航海運動學校成功試製出第一...  體育\n",
       "\n",
       "[101 rows x 2 columns]"
      ]
     },
     "execution_count": 3,
     "metadata": {},
     "output_type": "execute_result"
    }
   ],
   "source": [
    "test_df = read_data(\"chinese_news_test\")\n",
    "test_df"
   ]
  },
  {
   "cell_type": "code",
   "execution_count": 7,
   "metadata": {},
   "outputs": [],
   "source": [
    "labels = train_df[\"ans\"].unique()\n",
    "label_to_idx = {l:i for i, l in enumerate(labels)}\n",
    "idx_to_label = {i:l for i, l in enumerate(labels)}"
   ]
  },
  {
   "cell_type": "code",
   "execution_count": 8,
   "metadata": {},
   "outputs": [
    {
     "data": {
      "text/plain": [
       "('dict.txt.big', <http.client.HTTPMessage at 0xdc3c098048>)"
      ]
     },
     "execution_count": 8,
     "metadata": {},
     "output_type": "execute_result"
    }
   ],
   "source": [
    "from urllib.request import urlretrieve\n",
    "url = \"https://github.com/fxsjy/jieba/raw/master/extra_dict/dict.txt.big\"\n",
    "urlretrieve(url, \"dict.txt.big\")"
   ]
  },
  {
   "cell_type": "code",
   "execution_count": 9,
   "metadata": {},
   "outputs": [
    {
     "name": "stderr",
     "output_type": "stream",
     "text": [
      "Building prefix dict from C:\\Users\\A30\\PycharmProjects\\MLDemo\\dict.txt.big ...\n",
      "Dumping model to file cache C:\\Users\\A30\\AppData\\Local\\Temp\\jieba.u6b0fe39fbac1b941342ce6d335bf1d88.cache\n",
      "Loading model cost 2.117 seconds.\n",
      "Prefix dict has been built succesfully.\n"
     ]
    }
   ],
   "source": [
    "import jieba\n",
    "jieba.set_dictionary(\"dict.txt.big\")\n",
    "def newscut(n):\n",
    "    n = n.replace(\"\\r\", \"\").replace(\"\\n\", \"\")\n",
    "    return \" \".join(jieba.cut(n))\n",
    "x_train = train_df[\"content\"].apply(newscut)\n",
    "x_test = test_df[\"content\"].apply(newscut)\n",
    "y_train = train_df[\"ans\"].replace(label_to_idx)\n",
    "y_test = test_df[\"ans\"].replace(label_to_idx)"
   ]
  },
  {
   "cell_type": "code",
   "execution_count": 10,
   "metadata": {},
   "outputs": [],
   "source": [
    "from sklearn.feature_extraction.text import CountVectorizer\n",
    "vec = CountVectorizer()\n",
    "x_train_vec = vec.fit_transform(x_train)\n",
    "x_test_vec = vec.transform(x_test)"
   ]
  },
  {
   "cell_type": "code",
   "execution_count": 13,
   "metadata": {},
   "outputs": [
    {
     "data": {
      "text/plain": [
       "MultinomialNB(alpha=1.0, class_prior=None, fit_prior=True)"
      ]
     },
     "execution_count": 13,
     "metadata": {},
     "output_type": "execute_result"
    }
   ],
   "source": [
    "from sklearn.naive_bayes import MultinomialNB\n",
    "clf = MultinomialNB()\n",
    "clf.fit(x_train_vec, y_train)"
   ]
  },
  {
   "cell_type": "code",
   "execution_count": 14,
   "metadata": {},
   "outputs": [
    {
     "data": {
      "text/plain": [
       "1.0"
      ]
     },
     "execution_count": 14,
     "metadata": {},
     "output_type": "execute_result"
    }
   ],
   "source": [
    "from sklearn.metrics import accuracy_score\n",
    "pre = clf.predict(x_test_vec)\n",
    "accuracy_score(pre, y_test)"
   ]
  },
  {
   "cell_type": "code",
   "execution_count": 29,
   "metadata": {},
   "outputs": [
    {
     "name": "stdout",
     "output_type": "stream",
     "text": [
      "輸入新聞:陳秉立（阿翔）、謝忻6月爆發當街車吻的「偷忻不倫戀」，讓兩人形象跌落谷底，阿翔停工2個月後復出，但一回歸《綜藝大集合》，節目收視就下滑，《國光幫幫忙》則是無限期告假，他與老婆Grace愛的結晶「翔食堂水餃」，更是全面下架。   今年初，阿翔首度投資食品生意，夫妻倆推出水餃品牌「翔食堂水餃」，為了兼顧美味及食安，阿翔更親自研發口味、水餃皮的厚度，連內餡比例及來源都相當講究。為了打響第一砲，阿翔特地恩准老婆「拋頭露臉」，夫妻倆不時在鏡頭前曬恩愛賣餃子。  年初阿翔揪老婆Grace賣水餃，讓她升格老闆娘，但因「偷忻不倫戀」現已收攤。（圖／翻攝自Grace臉書） 年初阿翔揪老婆Grace賣水餃，讓她升格老闆娘，但因「偷忻不倫戀」現已收攤。（圖／翻攝自Grace臉書）   00:00 / 00:00 Loading Ad 「翔食堂水餃」推出後好評不斷，常常被搶購一空，還打進全聯福利中心及momo購物網等通路，然而就在食品副業看似順風順水之際，六月十一日，「偷忻不倫戀」曝光後，立刻波及「翔食堂水餃」的業績，如今所有通路已暫停販賣，品牌官網的產品也全面下架。本刊調查，「翔食堂水餃」的粉絲專頁從今年六月後就沒再發文，疑似是受到阿翔的不倫戀情影響。  阿翔及Grace研發半年推出「翔食堂水餃」，夫妻倆露臉賣餃子外，也讓女兒小泡芙試吃推薦。（圖／翻攝自五味食集臉書） 阿翔及Grace研發半年推出「翔食堂水餃」，夫妻倆露臉賣餃子外，也讓女兒小泡芙試吃推薦。（圖／翻攝自五味食集臉書） 2年前阿翔拿出300萬幫Grace開「小赫本手工訂製服」工作室，目前也已歇業。（圖／報系資料庫） 2年前阿翔拿出300萬幫Grace開「小赫本手工訂製服」工作室，目前也已歇業。（圖／報系資料庫） 不只水餃事業重挫，阿翔花三百萬幫Grace開的手工服工作室，在爆發偷腥前就倒了，阿翔的演藝工作也回不去了。九月間，阿翔回歸外景綜藝節目《綜藝大集合》的主持群，該節目的收視率長年輕鬆破五，但他歸隊後，不少網友揚言拒看，收視率果真數度跌到三字頭，等於流失至少二萬名觀眾。阿翔的另一個節目《國光幫幫忙》近日改版後，也不見他的蹤影。此外，阿翔還有《綜藝新時代》及《鬧著玩視界旅遊》等兩個節目，他想挽回觀眾的心，顯然還得下一番苦功。  阿翔出軌後，老婆Grace曾在臉書發文「換我為你撐傘」表達原諒。九月初，有風衣廠商相中這個「撐傘哏」，讓夫妻倆在廣告中被大雨淋得一身溼後，Grace再替阿翔戴上帽子，兩人接著十指緊扣，字幕還打上「風雨時刻，緊緊依偎」，廣告情境與阿翔的婚姻危機不謀而合。然而，或許因為過度消費自己的不忠，導致觀感不佳，網路上「噁心」等謾罵聲不斷，廣告才公開二天就火速下架。  月初阿翔與老婆Grace淋雨拍廣告，卻挨轟撈外遇財，廣告公開2天就被下架。（圖／翻攝自網路） 月初阿翔與老婆Grace淋雨拍廣告，卻挨轟撈外遇財，廣告公開2天就被下架。（圖／翻攝自網路） 雖然在廣告中「撐傘失敗」，阿翔在現實生活裡正積極修復夫妻關係。十二月初，本刊直擊他和Grace穿著夫妻裝，在台北市東區閒逛，當天下著小雨，阿翔不僅撐傘替Grace擋雨，還扶著她下樓梯，各種貼心的愛妻小動作，逗得Grace心情大好，不時對阿翔露出笑容，顯示兩人已盡釋前嫌、重修舊好。\n",
      "******************************\n",
      "藝術 類別的機率: 100.0 %\n",
      "經濟 類別的機率: 0.0 %\n",
      "教育 類別的機率: 0.0 %\n",
      "環境 類別的機率: 0.0 %\n",
      "體育 類別的機率: 0.0 %\n",
      "計算機 類別的機率: 0.0 %\n",
      "軍事 類別的機率: 0.0 %\n",
      "醫藥 類別的機率: 0.0 %\n",
      "交通 類別的機率: 0.0 %\n",
      "政治 類別的機率: 0.0 %\n"
     ]
    }
   ],
   "source": [
    "n = input(\"輸入新聞:\")\n",
    "n = newscut(n)\n",
    "n = vec.transform([n])\n",
    "proba = clf.predict_proba(n)[0]\n",
    "print(\"*\" * 30)\n",
    "plist = sorted(zip(labels, proba), key=lambda x:x[1], reverse=True)\n",
    "for l, p in plist:\n",
    "    print(l, \"類別的機率:\", round(p * 100, 2), \"%\")"
   ]
  },
  {
   "cell_type": "code",
   "execution_count": 21,
   "metadata": {},
   "outputs": [
    {
     "data": {
      "text/plain": [
       "[('a', 0.5), ('c', 0.3), ('b', 0.2)]"
      ]
     },
     "execution_count": 21,
     "metadata": {},
     "output_type": "execute_result"
    }
   ],
   "source": [
    "sorted([(\"a\", 0.5), (\"b\", 0.2), (\"c\", 0.3)], \n",
    "       reverse=True,\n",
    "       key=lambda x:x[1])"
   ]
  },
  {
   "cell_type": "code",
   "execution_count": null,
   "metadata": {},
   "outputs": [],
   "source": []
  }
 ],
 "metadata": {
  "kernelspec": {
   "display_name": "Python 3",
   "language": "python",
   "name": "python3"
  },
  "language_info": {
   "codemirror_mode": {
    "name": "ipython",
    "version": 3
   },
   "file_extension": ".py",
   "mimetype": "text/x-python",
   "name": "python",
   "nbconvert_exporter": "python",
   "pygments_lexer": "ipython3",
   "version": "3.7.5"
  }
 },
 "nbformat": 4,
 "nbformat_minor": 2
}
