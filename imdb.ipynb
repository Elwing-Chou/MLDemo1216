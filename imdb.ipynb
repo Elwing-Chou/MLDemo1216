{
  "nbformat": 4,
  "nbformat_minor": 0,
  "metadata": {
    "colab": {
      "name": "imdb.ipynb",
      "provenance": []
    },
    "kernelspec": {
      "name": "python3",
      "display_name": "Python 3"
    },
    "accelerator": "GPU"
  },
  "cells": [
    {
      "cell_type": "code",
      "metadata": {
        "id": "7sajOjyKAvXf",
        "colab_type": "code",
        "colab": {
          "base_uri": "https://localhost:8080/",
          "height": 119
        },
        "outputId": "01c1bd0a-b0d5-441a-fd29-7e5d2629bd53"
      },
      "source": [
        "import tensorflow as tf\n",
        "\n",
        "dataset = tf.keras.utils.get_file(\n",
        "    fname=\"aclImdb.tar.gz\", \n",
        "    origin=\"http://ai.stanford.edu/~amaas/data/sentiment/aclImdb_v1.tar.gz\", \n",
        "    extract=True,\n",
        ")"
      ],
      "execution_count": 1,
      "outputs": [
        {
          "output_type": "display_data",
          "data": {
            "text/html": [
              "<p style=\"color: red;\">\n",
              "The default version of TensorFlow in Colab will soon switch to TensorFlow 2.x.<br>\n",
              "We recommend you <a href=\"https://www.tensorflow.org/guide/migrate\" target=\"_blank\">upgrade</a> now \n",
              "or ensure your notebook will continue to use TensorFlow 1.x via the <code>%tensorflow_version 1.x</code> magic:\n",
              "<a href=\"https://colab.research.google.com/notebooks/tensorflow_version.ipynb\" target=\"_blank\">more info</a>.</p>\n"
            ],
            "text/plain": [
              "<IPython.core.display.HTML object>"
            ]
          },
          "metadata": {
            "tags": []
          }
        },
        {
          "output_type": "stream",
          "text": [
            "Downloading data from http://ai.stanford.edu/~amaas/data/sentiment/aclImdb_v1.tar.gz\n",
            "84131840/84125825 [==============================] - 2s 0us/step\n"
          ],
          "name": "stdout"
        }
      ]
    },
    {
      "cell_type": "code",
      "metadata": {
        "id": "7tnzAtcyBYjC",
        "colab_type": "code",
        "colab": {
          "base_uri": "https://localhost:8080/",
          "height": 407
        },
        "outputId": "ab2808bb-ef5c-4058-816e-a195e9549384"
      },
      "source": [
        "import os\n",
        "import glob\n",
        "import pandas as pd\n",
        "dn = os.path.split(dataset)[0]\n",
        "\n",
        "def read_file(fn):\n",
        "    with open(fn, \"r\", encoding=\"utf-8\") as f:\n",
        "        content = f.read()\n",
        "    return content\n",
        "\n",
        "def get_data(dn):\n",
        "    posfn = glob.glob(\"{}/pos/*\".format(dn))\n",
        "    negfn = glob.glob(\"{}/neg/*\".format(dn))\n",
        "    postarget = [1] * len(posfn)\n",
        "    negtarget = [0] * len(negfn)\n",
        "    df = pd.DataFrame({\n",
        "        \"fname\":posfn + negfn,\n",
        "        \"target\":postarget + negtarget\n",
        "    })\n",
        "    df[\"content\"] = df[\"fname\"].apply(read_file)\n",
        "    return df\n",
        "\n",
        "train_df = get_data(os.path.join(dn, \"aclImdb\", \"train\"))\n",
        "train_df"
      ],
      "execution_count": 14,
      "outputs": [
        {
          "output_type": "execute_result",
          "data": {
            "text/html": [
              "<div>\n",
              "<style scoped>\n",
              "    .dataframe tbody tr th:only-of-type {\n",
              "        vertical-align: middle;\n",
              "    }\n",
              "\n",
              "    .dataframe tbody tr th {\n",
              "        vertical-align: top;\n",
              "    }\n",
              "\n",
              "    .dataframe thead th {\n",
              "        text-align: right;\n",
              "    }\n",
              "</style>\n",
              "<table border=\"1\" class=\"dataframe\">\n",
              "  <thead>\n",
              "    <tr style=\"text-align: right;\">\n",
              "      <th></th>\n",
              "      <th>fname</th>\n",
              "      <th>target</th>\n",
              "      <th>content</th>\n",
              "    </tr>\n",
              "  </thead>\n",
              "  <tbody>\n",
              "    <tr>\n",
              "      <th>0</th>\n",
              "      <td>/root/.keras/datasets/aclImdb/train/pos/4971_7...</td>\n",
              "      <td>1</td>\n",
              "      <td>This is an absurdist dark comedy from Belgium....</td>\n",
              "    </tr>\n",
              "    <tr>\n",
              "      <th>1</th>\n",
              "      <td>/root/.keras/datasets/aclImdb/train/pos/9502_8...</td>\n",
              "      <td>1</td>\n",
              "      <td>I liked this movie very much. Although this mo...</td>\n",
              "    </tr>\n",
              "    <tr>\n",
              "      <th>2</th>\n",
              "      <td>/root/.keras/datasets/aclImdb/train/pos/10650_...</td>\n",
              "      <td>1</td>\n",
              "      <td>I rented this movie this past weekend, cranked...</td>\n",
              "    </tr>\n",
              "    <tr>\n",
              "      <th>3</th>\n",
              "      <td>/root/.keras/datasets/aclImdb/train/pos/1683_7...</td>\n",
              "      <td>1</td>\n",
              "      <td>I saw this film as it was the second feature o...</td>\n",
              "    </tr>\n",
              "    <tr>\n",
              "      <th>4</th>\n",
              "      <td>/root/.keras/datasets/aclImdb/train/pos/5784_8...</td>\n",
              "      <td>1</td>\n",
              "      <td>I've noticed that a lot of people who post on ...</td>\n",
              "    </tr>\n",
              "    <tr>\n",
              "      <th>...</th>\n",
              "      <td>...</td>\n",
              "      <td>...</td>\n",
              "      <td>...</td>\n",
              "    </tr>\n",
              "    <tr>\n",
              "      <th>24995</th>\n",
              "      <td>/root/.keras/datasets/aclImdb/train/neg/6299_1...</td>\n",
              "      <td>0</td>\n",
              "      <td>This inept adaptation of arguably one of Marti...</td>\n",
              "    </tr>\n",
              "    <tr>\n",
              "      <th>24996</th>\n",
              "      <td>/root/.keras/datasets/aclImdb/train/neg/2270_1...</td>\n",
              "      <td>0</td>\n",
              "      <td>The only thing that kept me from vomiting afte...</td>\n",
              "    </tr>\n",
              "    <tr>\n",
              "      <th>24997</th>\n",
              "      <td>/root/.keras/datasets/aclImdb/train/neg/3347_3...</td>\n",
              "      <td>0</td>\n",
              "      <td>I am not sure why I like Dolph Lundgren. I gue...</td>\n",
              "    </tr>\n",
              "    <tr>\n",
              "      <th>24998</th>\n",
              "      <td>/root/.keras/datasets/aclImdb/train/neg/9728_3...</td>\n",
              "      <td>0</td>\n",
              "      <td>Tobe Hooper has made great movies so I was cer...</td>\n",
              "    </tr>\n",
              "    <tr>\n",
              "      <th>24999</th>\n",
              "      <td>/root/.keras/datasets/aclImdb/train/neg/237_1.txt</td>\n",
              "      <td>0</td>\n",
              "      <td>After being hugely entertained by Mr. Brosnan'...</td>\n",
              "    </tr>\n",
              "  </tbody>\n",
              "</table>\n",
              "<p>25000 rows × 3 columns</p>\n",
              "</div>"
            ],
            "text/plain": [
              "                                                   fname  ...                                            content\n",
              "0      /root/.keras/datasets/aclImdb/train/pos/4971_7...  ...  This is an absurdist dark comedy from Belgium....\n",
              "1      /root/.keras/datasets/aclImdb/train/pos/9502_8...  ...  I liked this movie very much. Although this mo...\n",
              "2      /root/.keras/datasets/aclImdb/train/pos/10650_...  ...  I rented this movie this past weekend, cranked...\n",
              "3      /root/.keras/datasets/aclImdb/train/pos/1683_7...  ...  I saw this film as it was the second feature o...\n",
              "4      /root/.keras/datasets/aclImdb/train/pos/5784_8...  ...  I've noticed that a lot of people who post on ...\n",
              "...                                                  ...  ...                                                ...\n",
              "24995  /root/.keras/datasets/aclImdb/train/neg/6299_1...  ...  This inept adaptation of arguably one of Marti...\n",
              "24996  /root/.keras/datasets/aclImdb/train/neg/2270_1...  ...  The only thing that kept me from vomiting afte...\n",
              "24997  /root/.keras/datasets/aclImdb/train/neg/3347_3...  ...  I am not sure why I like Dolph Lundgren. I gue...\n",
              "24998  /root/.keras/datasets/aclImdb/train/neg/9728_3...  ...  Tobe Hooper has made great movies so I was cer...\n",
              "24999  /root/.keras/datasets/aclImdb/train/neg/237_1.txt  ...  After being hugely entertained by Mr. Brosnan'...\n",
              "\n",
              "[25000 rows x 3 columns]"
            ]
          },
          "metadata": {
            "tags": []
          },
          "execution_count": 14
        }
      ]
    },
    {
      "cell_type": "code",
      "metadata": {
        "id": "45jCpJB8EPlu",
        "colab_type": "code",
        "colab": {
          "base_uri": "https://localhost:8080/",
          "height": 407
        },
        "outputId": "94646313-9e22-49ec-9d46-83a6075ed3bc"
      },
      "source": [
        "test_df = get_data(os.path.join(dn, \"aclImdb\", \"test\"))\n",
        "test_df"
      ],
      "execution_count": 15,
      "outputs": [
        {
          "output_type": "execute_result",
          "data": {
            "text/html": [
              "<div>\n",
              "<style scoped>\n",
              "    .dataframe tbody tr th:only-of-type {\n",
              "        vertical-align: middle;\n",
              "    }\n",
              "\n",
              "    .dataframe tbody tr th {\n",
              "        vertical-align: top;\n",
              "    }\n",
              "\n",
              "    .dataframe thead th {\n",
              "        text-align: right;\n",
              "    }\n",
              "</style>\n",
              "<table border=\"1\" class=\"dataframe\">\n",
              "  <thead>\n",
              "    <tr style=\"text-align: right;\">\n",
              "      <th></th>\n",
              "      <th>fname</th>\n",
              "      <th>target</th>\n",
              "      <th>content</th>\n",
              "    </tr>\n",
              "  </thead>\n",
              "  <tbody>\n",
              "    <tr>\n",
              "      <th>0</th>\n",
              "      <td>/root/.keras/datasets/aclImdb/test/pos/1010_9.txt</td>\n",
              "      <td>1</td>\n",
              "      <td>Hehehe. This was one of the best funny road mo...</td>\n",
              "    </tr>\n",
              "    <tr>\n",
              "      <th>1</th>\n",
              "      <td>/root/.keras/datasets/aclImdb/test/pos/10037_7...</td>\n",
              "      <td>1</td>\n",
              "      <td>This movie is good for entertainment purposes,...</td>\n",
              "    </tr>\n",
              "    <tr>\n",
              "      <th>2</th>\n",
              "      <td>/root/.keras/datasets/aclImdb/test/pos/10135_8...</td>\n",
              "      <td>1</td>\n",
              "      <td>Corniness Warning. As many fellow IMDb users a...</td>\n",
              "    </tr>\n",
              "    <tr>\n",
              "      <th>3</th>\n",
              "      <td>/root/.keras/datasets/aclImdb/test/pos/11555_7...</td>\n",
              "      <td>1</td>\n",
              "      <td>This movie starts off somewhat slowly and gets...</td>\n",
              "    </tr>\n",
              "    <tr>\n",
              "      <th>4</th>\n",
              "      <td>/root/.keras/datasets/aclImdb/test/pos/3466_10...</td>\n",
              "      <td>1</td>\n",
              "      <td>I got some free tickets via the Times to see t...</td>\n",
              "    </tr>\n",
              "    <tr>\n",
              "      <th>...</th>\n",
              "      <td>...</td>\n",
              "      <td>...</td>\n",
              "      <td>...</td>\n",
              "    </tr>\n",
              "    <tr>\n",
              "      <th>24995</th>\n",
              "      <td>/root/.keras/datasets/aclImdb/test/neg/5389_4.txt</td>\n",
              "      <td>0</td>\n",
              "      <td>It was definitely worth viewing, I don't regre...</td>\n",
              "    </tr>\n",
              "    <tr>\n",
              "      <th>24996</th>\n",
              "      <td>/root/.keras/datasets/aclImdb/test/neg/8021_1.txt</td>\n",
              "      <td>0</td>\n",
              "      <td>I can confidently say that this is the worst f...</td>\n",
              "    </tr>\n",
              "    <tr>\n",
              "      <th>24997</th>\n",
              "      <td>/root/.keras/datasets/aclImdb/test/neg/88_3.txt</td>\n",
              "      <td>0</td>\n",
              "      <td>Wow, what an overrated movie this turned out t...</td>\n",
              "    </tr>\n",
              "    <tr>\n",
              "      <th>24998</th>\n",
              "      <td>/root/.keras/datasets/aclImdb/test/neg/2270_1.txt</td>\n",
              "      <td>0</td>\n",
              "      <td>The comparisons between the 1995 version and t...</td>\n",
              "    </tr>\n",
              "    <tr>\n",
              "      <th>24999</th>\n",
              "      <td>/root/.keras/datasets/aclImdb/test/neg/237_1.txt</td>\n",
              "      <td>0</td>\n",
              "      <td>The Robot vs. the Aztec Mummy was one of the s...</td>\n",
              "    </tr>\n",
              "  </tbody>\n",
              "</table>\n",
              "<p>25000 rows × 3 columns</p>\n",
              "</div>"
            ],
            "text/plain": [
              "                                                   fname  ...                                            content\n",
              "0      /root/.keras/datasets/aclImdb/test/pos/1010_9.txt  ...  Hehehe. This was one of the best funny road mo...\n",
              "1      /root/.keras/datasets/aclImdb/test/pos/10037_7...  ...  This movie is good for entertainment purposes,...\n",
              "2      /root/.keras/datasets/aclImdb/test/pos/10135_8...  ...  Corniness Warning. As many fellow IMDb users a...\n",
              "3      /root/.keras/datasets/aclImdb/test/pos/11555_7...  ...  This movie starts off somewhat slowly and gets...\n",
              "4      /root/.keras/datasets/aclImdb/test/pos/3466_10...  ...  I got some free tickets via the Times to see t...\n",
              "...                                                  ...  ...                                                ...\n",
              "24995  /root/.keras/datasets/aclImdb/test/neg/5389_4.txt  ...  It was definitely worth viewing, I don't regre...\n",
              "24996  /root/.keras/datasets/aclImdb/test/neg/8021_1.txt  ...  I can confidently say that this is the worst f...\n",
              "24997    /root/.keras/datasets/aclImdb/test/neg/88_3.txt  ...  Wow, what an overrated movie this turned out t...\n",
              "24998  /root/.keras/datasets/aclImdb/test/neg/2270_1.txt  ...  The comparisons between the 1995 version and t...\n",
              "24999   /root/.keras/datasets/aclImdb/test/neg/237_1.txt  ...  The Robot vs. the Aztec Mummy was one of the s...\n",
              "\n",
              "[25000 rows x 3 columns]"
            ]
          },
          "metadata": {
            "tags": []
          },
          "execution_count": 15
        }
      ]
    }
  ]
}