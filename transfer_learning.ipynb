{
 "cells": [
  {
   "cell_type": "code",
   "execution_count": 1,
   "metadata": {},
   "outputs": [
    {
     "data": {
      "text/html": [
       "<div>\n",
       "<style scoped>\n",
       "    .dataframe tbody tr th:only-of-type {\n",
       "        vertical-align: middle;\n",
       "    }\n",
       "\n",
       "    .dataframe tbody tr th {\n",
       "        vertical-align: top;\n",
       "    }\n",
       "\n",
       "    .dataframe thead th {\n",
       "        text-align: right;\n",
       "    }\n",
       "</style>\n",
       "<table border=\"1\" class=\"dataframe\">\n",
       "  <thead>\n",
       "    <tr style=\"text-align: right;\">\n",
       "      <th></th>\n",
       "      <th>path</th>\n",
       "      <th>target</th>\n",
       "    </tr>\n",
       "  </thead>\n",
       "  <tbody>\n",
       "    <tr>\n",
       "      <th>0</th>\n",
       "      <td>train/train\\cat.0.jpg</td>\n",
       "      <td>0</td>\n",
       "    </tr>\n",
       "    <tr>\n",
       "      <th>1</th>\n",
       "      <td>train/train\\cat.1.jpg</td>\n",
       "      <td>0</td>\n",
       "    </tr>\n",
       "    <tr>\n",
       "      <th>2</th>\n",
       "      <td>train/train\\cat.10.jpg</td>\n",
       "      <td>0</td>\n",
       "    </tr>\n",
       "    <tr>\n",
       "      <th>3</th>\n",
       "      <td>train/train\\cat.100.jpg</td>\n",
       "      <td>0</td>\n",
       "    </tr>\n",
       "    <tr>\n",
       "      <th>4</th>\n",
       "      <td>train/train\\cat.1000.jpg</td>\n",
       "      <td>0</td>\n",
       "    </tr>\n",
       "    <tr>\n",
       "      <th>...</th>\n",
       "      <td>...</td>\n",
       "      <td>...</td>\n",
       "    </tr>\n",
       "    <tr>\n",
       "      <th>24995</th>\n",
       "      <td>train/train\\dog.9995.jpg</td>\n",
       "      <td>1</td>\n",
       "    </tr>\n",
       "    <tr>\n",
       "      <th>24996</th>\n",
       "      <td>train/train\\dog.9996.jpg</td>\n",
       "      <td>1</td>\n",
       "    </tr>\n",
       "    <tr>\n",
       "      <th>24997</th>\n",
       "      <td>train/train\\dog.9997.jpg</td>\n",
       "      <td>1</td>\n",
       "    </tr>\n",
       "    <tr>\n",
       "      <th>24998</th>\n",
       "      <td>train/train\\dog.9998.jpg</td>\n",
       "      <td>1</td>\n",
       "    </tr>\n",
       "    <tr>\n",
       "      <th>24999</th>\n",
       "      <td>train/train\\dog.9999.jpg</td>\n",
       "      <td>1</td>\n",
       "    </tr>\n",
       "  </tbody>\n",
       "</table>\n",
       "<p>25000 rows × 2 columns</p>\n",
       "</div>"
      ],
      "text/plain": [
       "                           path  target\n",
       "0         train/train\\cat.0.jpg       0\n",
       "1         train/train\\cat.1.jpg       0\n",
       "2        train/train\\cat.10.jpg       0\n",
       "3       train/train\\cat.100.jpg       0\n",
       "4      train/train\\cat.1000.jpg       0\n",
       "...                         ...     ...\n",
       "24995  train/train\\dog.9995.jpg       1\n",
       "24996  train/train\\dog.9996.jpg       1\n",
       "24997  train/train\\dog.9997.jpg       1\n",
       "24998  train/train\\dog.9998.jpg       1\n",
       "24999  train/train\\dog.9999.jpg       1\n",
       "\n",
       "[25000 rows x 2 columns]"
      ]
     },
     "execution_count": 1,
     "metadata": {},
     "output_type": "execute_result"
    }
   ],
   "source": [
    "import glob\n",
    "import pandas as pd\n",
    "catp = glob.glob(\"train/train/cat.*.*\")\n",
    "dogp = glob.glob(\"train/train/dog.*.*\")\n",
    "catt = [0] * len(catp)\n",
    "dogt = [1] * len(dogp)\n",
    "df = pd.DataFrame({\n",
    "    \"path\":catp + dogp,\n",
    "    \"target\":catt + dogt\n",
    "})\n",
    "df"
   ]
  },
  {
   "cell_type": "code",
   "execution_count": 17,
   "metadata": {},
   "outputs": [
    {
     "name": "stdout",
     "output_type": "stream",
     "text": [
      "Model: \"vgg16\"\n",
      "_________________________________________________________________\n",
      "Layer (type)                 Output Shape              Param #   \n",
      "=================================================================\n",
      "input_2 (InputLayer)         (None, 224, 224, 3)       0         \n",
      "_________________________________________________________________\n",
      "block1_conv1 (Conv2D)        (None, 224, 224, 64)      1792      \n",
      "_________________________________________________________________\n",
      "block1_conv2 (Conv2D)        (None, 224, 224, 64)      36928     \n",
      "_________________________________________________________________\n",
      "block1_pool (MaxPooling2D)   (None, 112, 112, 64)      0         \n",
      "_________________________________________________________________\n",
      "block2_conv1 (Conv2D)        (None, 112, 112, 128)     73856     \n",
      "_________________________________________________________________\n",
      "block2_conv2 (Conv2D)        (None, 112, 112, 128)     147584    \n",
      "_________________________________________________________________\n",
      "block2_pool (MaxPooling2D)   (None, 56, 56, 128)       0         \n",
      "_________________________________________________________________\n",
      "block3_conv1 (Conv2D)        (None, 56, 56, 256)       295168    \n",
      "_________________________________________________________________\n",
      "block3_conv2 (Conv2D)        (None, 56, 56, 256)       590080    \n",
      "_________________________________________________________________\n",
      "block3_conv3 (Conv2D)        (None, 56, 56, 256)       590080    \n",
      "_________________________________________________________________\n",
      "block3_pool (MaxPooling2D)   (None, 28, 28, 256)       0         \n",
      "_________________________________________________________________\n",
      "block4_conv1 (Conv2D)        (None, 28, 28, 512)       1180160   \n",
      "_________________________________________________________________\n",
      "block4_conv2 (Conv2D)        (None, 28, 28, 512)       2359808   \n",
      "_________________________________________________________________\n",
      "block4_conv3 (Conv2D)        (None, 28, 28, 512)       2359808   \n",
      "_________________________________________________________________\n",
      "block4_pool (MaxPooling2D)   (None, 14, 14, 512)       0         \n",
      "_________________________________________________________________\n",
      "block5_conv1 (Conv2D)        (None, 14, 14, 512)       2359808   \n",
      "_________________________________________________________________\n",
      "block5_conv2 (Conv2D)        (None, 14, 14, 512)       2359808   \n",
      "_________________________________________________________________\n",
      "block5_conv3 (Conv2D)        (None, 14, 14, 512)       2359808   \n",
      "_________________________________________________________________\n",
      "block5_pool (MaxPooling2D)   (None, 7, 7, 512)         0         \n",
      "=================================================================\n",
      "Total params: 14,714,688\n",
      "Trainable params: 14,714,688\n",
      "Non-trainable params: 0\n",
      "_________________________________________________________________\n"
     ]
    }
   ],
   "source": [
    "from keras.applications.vgg16 import VGG16\n",
    "vgg = VGG16(include_top=False, input_shape=(224, 224, 3))\n",
    "vgg.summary()"
   ]
  },
  {
   "cell_type": "code",
   "execution_count": 3,
   "metadata": {},
   "outputs": [
    {
     "name": "stdout",
     "output_type": "stream",
     "text": [
      "Model: \"model_1\"\n",
      "_________________________________________________________________\n",
      "Layer (type)                 Output Shape              Param #   \n",
      "=================================================================\n",
      "input_1 (InputLayer)         (None, 224, 224, 3)       0         \n",
      "_________________________________________________________________\n",
      "block1_conv1 (Conv2D)        (None, 224, 224, 64)      1792      \n",
      "_________________________________________________________________\n",
      "block1_conv2 (Conv2D)        (None, 224, 224, 64)      36928     \n",
      "_________________________________________________________________\n",
      "block1_pool (MaxPooling2D)   (None, 112, 112, 64)      0         \n",
      "_________________________________________________________________\n",
      "block2_conv1 (Conv2D)        (None, 112, 112, 128)     73856     \n",
      "_________________________________________________________________\n",
      "block2_conv2 (Conv2D)        (None, 112, 112, 128)     147584    \n",
      "_________________________________________________________________\n",
      "block2_pool (MaxPooling2D)   (None, 56, 56, 128)       0         \n",
      "_________________________________________________________________\n",
      "block3_conv1 (Conv2D)        (None, 56, 56, 256)       295168    \n",
      "_________________________________________________________________\n",
      "block3_conv2 (Conv2D)        (None, 56, 56, 256)       590080    \n",
      "_________________________________________________________________\n",
      "block3_conv3 (Conv2D)        (None, 56, 56, 256)       590080    \n",
      "_________________________________________________________________\n",
      "block3_pool (MaxPooling2D)   (None, 28, 28, 256)       0         \n",
      "_________________________________________________________________\n",
      "block4_conv1 (Conv2D)        (None, 28, 28, 512)       1180160   \n",
      "_________________________________________________________________\n",
      "block4_conv2 (Conv2D)        (None, 28, 28, 512)       2359808   \n",
      "_________________________________________________________________\n",
      "block4_conv3 (Conv2D)        (None, 28, 28, 512)       2359808   \n",
      "_________________________________________________________________\n",
      "block4_pool (MaxPooling2D)   (None, 14, 14, 512)       0         \n",
      "_________________________________________________________________\n",
      "block5_conv1 (Conv2D)        (None, 14, 14, 512)       2359808   \n",
      "_________________________________________________________________\n",
      "block5_conv2 (Conv2D)        (None, 14, 14, 512)       2359808   \n",
      "_________________________________________________________________\n",
      "block5_conv3 (Conv2D)        (None, 14, 14, 512)       2359808   \n",
      "_________________________________________________________________\n",
      "block5_pool (MaxPooling2D)   (None, 7, 7, 512)         0         \n",
      "_________________________________________________________________\n",
      "batch_normalization_1 (Batch (None, 7, 7, 512)         2048      \n",
      "_________________________________________________________________\n",
      "flatten_1 (Flatten)          (None, 25088)             0         \n",
      "_________________________________________________________________\n",
      "dense_1 (Dense)              (None, 256)               6422784   \n",
      "_________________________________________________________________\n",
      "dropout_1 (Dropout)          (None, 256)               0         \n",
      "_________________________________________________________________\n",
      "dense_2 (Dense)              (None, 2)                 514       \n",
      "=================================================================\n",
      "Total params: 21,140,034\n",
      "Trainable params: 6,424,322\n",
      "Non-trainable params: 14,715,712\n",
      "_________________________________________________________________\n"
     ]
    }
   ],
   "source": [
    "from keras.models import Model\n",
    "from keras.layers import Dense, Dropout, Flatten\n",
    "from keras.layers import BatchNormalization\n",
    "# 如果你要設置trainable與否, 一定要compile前\n",
    "# CNN\n",
    "for l in vgg.layers:\n",
    "    l.trainable = False\n",
    "# Normalize\n",
    "x = BatchNormalization()(vgg.output)\n",
    "# MLP\n",
    "x = Flatten()(x)\n",
    "x = Dense(256, activation=\"relu\")(x)\n",
    "x = Dropout(0.25)(x)\n",
    "x = Dense(2, activation=\"softmax\")(x)\n",
    "model = Model(inputs=vgg.input, outputs=x)\n",
    "model.summary()"
   ]
  },
  {
   "cell_type": "code",
   "execution_count": 4,
   "metadata": {},
   "outputs": [],
   "source": [
    "model.compile(loss=\"sparse_categorical_crossentropy\",\n",
    "              optimizer=\"adam\",\n",
    "              metrics=[\"accuracy\"])"
   ]
  },
  {
   "cell_type": "code",
   "execution_count": 5,
   "metadata": {},
   "outputs": [],
   "source": [
    "# 進到機器學習以後, 最好不要再出現pandas, 全部轉換nparray\n",
    "import numpy as np\n",
    "from sklearn.model_selection import train_test_split\n",
    "x = np.array(df[\"path\"])\n",
    "y = np.array(df[\"target\"])\n",
    "result = train_test_split(x, y, test_size=0.1)\n",
    "x_train, x_test, y_train, y_test = result"
   ]
  },
  {
   "cell_type": "code",
   "execution_count": 6,
   "metadata": {},
   "outputs": [
    {
     "name": "stdout",
     "output_type": "stream",
     "text": [
      "(22500,)\n",
      "(22500,)\n",
      "(2500,)\n",
      "(2500,)\n"
     ]
    }
   ],
   "source": [
    "print(x_train.shape)\n",
    "print(y_train.shape)\n",
    "print(x_test.shape)\n",
    "print(y_test.shape)"
   ]
  },
  {
   "cell_type": "code",
   "execution_count": 7,
   "metadata": {},
   "outputs": [
    {
     "name": "stdout",
     "output_type": "stream",
     "text": [
      "(20, 224, 224, 3)\n",
      "(20, 224, 224, 3)\n",
      "(20,)\n"
     ]
    }
   ],
   "source": [
    "# https://github.com/keras-team/keras-applications/blob/master/keras_applications/imagenet_utils.py\n",
    "from keras.preprocessing.image import load_img\n",
    "from keras.applications.vgg16 import preprocess_input\n",
    "def get_images(x, y, batch):\n",
    "    idx = np.random.randint(0, x.shape[0], batch)\n",
    "    paths = x[idx]\n",
    "    \n",
    "    ori_img_list = []\n",
    "    img_list = []\n",
    "    for p in paths:\n",
    "        img = load_img(p, target_size=(224, 224)).convert(\"RGB\")\n",
    "        img = np.array(img)\n",
    "        img_pre = preprocess_input(img.astype(\"float64\"))\n",
    "        ori_img_list.append(img)\n",
    "        img_list.append(img_pre)\n",
    "    return (np.array(ori_img_list), \n",
    "            np.array(img_list), \n",
    "            np.array(y[idx]))\n",
    "        \n",
    "ori, pre, target = get_images(x_train, y_train, 20)\n",
    "print(ori.shape)\n",
    "print(pre.shape)\n",
    "print(target.shape)\n",
    "# print(pre)"
   ]
  },
  {
   "cell_type": "code",
   "execution_count": 15,
   "metadata": {},
   "outputs": [
    {
     "name": "stdout",
     "output_type": "stream",
     "text": [
      "--------------- Epoch: 0 ---------------\n",
      "[Train]: [0.6476873, 0.92727274]\n",
      "[Test]: [9.7955475, 0.75]\n",
      "--------------- Epoch: 1 ---------------\n",
      "[Train]: [1.7858136, 0.9]\n",
      "[Test]: [4.6751695, 0.85]\n",
      "--------------- Epoch: 2 ---------------\n",
      "[Train]: [0.0062394342, 1.0]\n",
      "[Test]: [1.5344771, 0.9]\n",
      "--------------- Epoch: 3 ---------------\n",
      "[Train]: [0.37113756, 0.95]\n",
      "[Test]: [3.7720428, 0.8]\n",
      "--------------- Epoch: 4 ---------------\n",
      "[Train]: [2.048857e-05, 1.0]\n",
      "[Test]: [4.10369, 0.9]\n",
      "--------------- Epoch: 5 ---------------\n",
      "[Train]: [0.32235643, 0.95]\n",
      "[Test]: [1.549337, 0.85]\n",
      "--------------- Epoch: 6 ---------------\n",
      "[Train]: [5.0033315e-05, 1.0]\n",
      "[Test]: [1.286078, 0.85]\n",
      "--------------- Epoch: 7 ---------------\n",
      "[Train]: [0.26969475, 0.95]\n",
      "[Test]: [2.7790003, 0.9]\n",
      "--------------- Epoch: 8 ---------------\n",
      "[Train]: [0.016175557, 1.0]\n",
      "[Test]: [0.59411067, 0.9]\n",
      "--------------- Epoch: 9 ---------------\n",
      "[Train]: [2.8498008, 0.95]\n",
      "[Test]: [4.0587034, 0.9]\n"
     ]
    }
   ],
   "source": [
    "TRAIN_BATCH = 20\n",
    "VALIDATE_BATCH = 20\n",
    "\n",
    "for i in range(10):\n",
    "    print(\"-\" * 15, \"Epoch:\", i, \"-\" * 15)\n",
    "    _, imgs, targets = get_images(x_train, y_train, TRAIN_BATCH)\n",
    "    train_result = model.train_on_batch(imgs, targets)\n",
    "    print(\"[Train]:\", train_result)\n",
    "    _, imgs, targets = get_images(x_test, y_test, VALIDATE_BATCH)\n",
    "    test_result = model.test_on_batch(imgs, targets)\n",
    "    print(\"[Test]:\", test_result)"
   ]
  },
  {
   "cell_type": "code",
   "execution_count": 13,
   "metadata": {},
   "outputs": [
    {
     "data": {
      "text/plain": [
       "array([[9.9999964e-01, 3.8213972e-07],\n",
       "       [1.0000000e+00, 0.0000000e+00],\n",
       "       [1.0000000e+00, 2.5160094e-19],\n",
       "       [0.0000000e+00, 1.0000000e+00],\n",
       "       [3.0228963e-32, 1.0000000e+00],\n",
       "       [0.0000000e+00, 1.0000000e+00],\n",
       "       [0.0000000e+00, 1.0000000e+00],\n",
       "       [1.0000000e+00, 1.5547915e-11],\n",
       "       [1.7628848e-38, 1.0000000e+00],\n",
       "       [1.0000000e+00, 3.4958667e-26],\n",
       "       [7.0636718e-35, 1.0000000e+00],\n",
       "       [1.0000000e+00, 3.1441550e-24],\n",
       "       [1.5196321e-08, 1.0000000e+00],\n",
       "       [1.0000000e+00, 3.2833104e-19],\n",
       "       [0.0000000e+00, 1.0000000e+00],\n",
       "       [0.0000000e+00, 1.0000000e+00],\n",
       "       [0.0000000e+00, 1.0000000e+00],\n",
       "       [0.0000000e+00, 1.0000000e+00],\n",
       "       [0.0000000e+00, 1.0000000e+00],\n",
       "       [1.0000000e+00, 0.0000000e+00]], dtype=float32)"
      ]
     },
     "execution_count": 13,
     "metadata": {},
     "output_type": "execute_result"
    }
   ],
   "source": [
    "model.predict(imgs)"
   ]
  },
  {
   "cell_type": "code",
   "execution_count": 18,
   "metadata": {},
   "outputs": [
    {
     "name": "stdout",
     "output_type": "stream",
     "text": [
      "200/200 [==============================] - 57s 285ms/step\n"
     ]
    },
    {
     "data": {
      "text/plain": [
       "[1.9228656387329102, 0.8849999904632568]"
      ]
     },
     "execution_count": 18,
     "metadata": {},
     "output_type": "execute_result"
    }
   ],
   "source": [
    "testori, testimg, testtarget = get_images(x_test, y_test, 200)\n",
    "model.evaluate(testimg, testtarget)"
   ]
  },
  {
   "cell_type": "code",
   "execution_count": null,
   "metadata": {},
   "outputs": [],
   "source": [
    "# Model跟Sequential不一樣, 他沒有predict_classes\n",
    "# predict + argmax(找到最大值的索引)來把它變成是類別\n",
    "pre = model.predict(testimg).argmax()\n",
    "pre"
   ]
  }
 ],
 "metadata": {
  "kernelspec": {
   "display_name": "Python 3",
   "language": "python",
   "name": "python3"
  },
  "language_info": {
   "codemirror_mode": {
    "name": "ipython",
    "version": 3
   },
   "file_extension": ".py",
   "mimetype": "text/x-python",
   "name": "python",
   "nbconvert_exporter": "python",
   "pygments_lexer": "ipython3",
   "version": "3.7.5"
  }
 },
 "nbformat": 4,
 "nbformat_minor": 2
}
